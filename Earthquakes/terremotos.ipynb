{
 "cells": [
  {
   "cell_type": "markdown",
   "metadata": {},
   "source": [
    "# Richter's Predictor: Modeling Earthquake Damage"
   ]
  },
  {
   "cell_type": "markdown",
   "metadata": {},
   "source": [
    "#### Datadriven is hosting a competition to predict the level of damage to buildings caused by the 2015 Gorkha earthquake in Nepal based on aspects of building location and construction.\n",
    "\n",
    "#### I took part of the competion with this script and obtained a micro-averaged F1 score of 0.7289 (Position 381 out of 2980).\n",
    "\n",
    "#### More information can be found in the following [link]\n",
    "[link]: https://www.drivendata.org/competitions/57/nepal-earthquake/"
   ]
  },
  {
   "cell_type": "code",
   "execution_count": 34,
   "metadata": {},
   "outputs": [],
   "source": [
    "import dask.dataframe as dd\n",
    "import pandas as pd\n",
    "import numpy as np\n",
    "import matplotlib.pyplot as plt\n",
    "import seaborn as sns\n",
    "from datetime import datetime\n",
    "import copy\n",
    "import math\n",
    "from sklearn.model_selection import cross_val_score"
   ]
  },
  {
   "cell_type": "code",
   "execution_count": 35,
   "metadata": {},
   "outputs": [],
   "source": [
    "path = r\"C:\\Users\\usuario\\Desktop\"\n",
    "train_X = dd.read_csv(path + \"/train_values.csv\")\n",
    "train_y = dd.read_csv(path + \"/train_labels.csv\")\n",
    "test_x = dd.read_csv(path + \"/test_values.csv\")\n",
    "\n",
    "df = train_X.merge(train_y, how=\"inner\", on = \"building_id\")\n",
    "sample = df.sample(frac=1, random_state=12).compute()"
   ]
  },
  {
   "cell_type": "code",
   "execution_count": 36,
   "metadata": {},
   "outputs": [
    {
     "name": "stdout",
     "output_type": "stream",
     "text": [
      "['land_surface_condition', 'foundation_type', 'roof_type', 'ground_floor_type', 'other_floor_type', 'position', 'plan_configuration', 'legal_ownership_status']\n"
     ]
    }
   ],
   "source": [
    "object_list = list(sample.select_dtypes(\"object\").columns)\n",
    "print(object_list)"
   ]
  },
  {
   "cell_type": "markdown",
   "metadata": {},
   "source": [
    "#### After analyzing the columns and their meaning, we decide to remove those related to the secondary purpose of the building because it has no impact in the damage."
   ]
  },
  {
   "cell_type": "code",
   "execution_count": 37,
   "metadata": {},
   "outputs": [],
   "source": [
    "colToDrop = []\n",
    "for col in sample.columns:\n",
    "    if \"secondary\" in col:\n",
    "        colToDrop.append(col)\n",
    "sample.drop(colToDrop, axis=1, inplace=True)"
   ]
  },
  {
   "cell_type": "markdown",
   "metadata": {},
   "source": [
    "#### Let's see if the dataset is balanced:"
   ]
  },
  {
   "cell_type": "code",
   "execution_count": 38,
   "metadata": {},
   "outputs": [
    {
     "data": {
      "text/plain": [
       "<matplotlib.axes._subplots.AxesSubplot at 0x23bce947108>"
      ]
     },
     "execution_count": 38,
     "metadata": {},
     "output_type": "execute_result"
    },
    {
     "data": {
      "image/png": "[encoded data removed]",
      "text/plain": [
       "<Figure size 432x288 with 1 Axes>"
      ]
     },
     "metadata": {
      "needs_background": "light"
     },
     "output_type": "display_data"
    }
   ],
   "source": [
    "sns.countplot(x='damage_grade', data=sample)"
   ]
  },
  {
   "cell_type": "markdown",
   "metadata": {},
   "source": [
    "#### We can clearly see that the dataset is not balanced. However, after working on the prediction of the damages we can see that we get a better result with this dataset, rather than an oversampled or undersampled one, so we will keep it like that."
   ]
  },
  {
   "cell_type": "markdown",
   "metadata": {},
   "source": [
    "#### Next step will be to get the dummy variables for the categorical ones:"
   ]
  },
  {
   "cell_type": "code",
   "execution_count": 39,
   "metadata": {},
   "outputs": [],
   "source": [
    "sample = pd.get_dummies(sample)"
   ]
  },
  {
   "cell_type": "markdown",
   "metadata": {},
   "source": [
    "#### We are ready to prepare the dataset in order to work on the prediction:"
   ]
  },
  {
   "cell_type": "code",
   "execution_count": 40,
   "metadata": {},
   "outputs": [],
   "source": [
    "X = sample.loc[:,sample.columns != \"damage_grade\"].values\n",
    "y = sample.loc[:,sample.columns == \"damage_grade\"].values"
   ]
  },
  {
   "cell_type": "markdown",
   "metadata": {},
   "source": [
    "#### Due to the fact that there are a lot of features and most of them won't have any impact on the prediction, we will perform a feature selection to work with the most significant ones:"
   ]
  },
  {
   "cell_type": "code",
   "execution_count": 41,
   "metadata": {},
   "outputs": [],
   "source": [
    "from sklearn.feature_selection import SelectKBest\n",
    "from sklearn.feature_selection import chi2\n",
    "selector = SelectKBest(chi2, k=2)\n",
    "X = selector.fit_transform(X, y)"
   ]
  },
  {
   "cell_type": "markdown",
   "metadata": {},
   "source": [
    "#### We split the dataset to train the model with some of the data and to test it with some different data:"
   ]
  },
  {
   "cell_type": "code",
   "execution_count": 42,
   "metadata": {},
   "outputs": [],
   "source": [
    "from sklearn.model_selection import train_test_split\n",
    "X_train, X_test, y_train, y_test = train_test_split(\n",
    "    X, y, test_size=0.2, random_state=0)"
   ]
  },
  {
   "cell_type": "markdown",
   "metadata": {},
   "source": [
    "#### The best result for this case is obtained with the Gradientboost:"
   ]
  },
  {
   "cell_type": "code",
   "execution_count": 43,
   "metadata": {},
   "outputs": [
    {
     "name": "stdout",
     "output_type": "stream",
     "text": [
      "      Iter       Train Loss   Remaining Time \n",
      "         1      188367.0942            8.39m\n",
      "         2      186827.1132            7.26m\n",
      "         3      185607.0221            6.86m\n",
      "         4      184639.4890            6.60m\n",
      "         5      183864.3483            6.77m\n",
      "         6      183013.9166            6.66m\n",
      "         7      182534.9280            6.68m\n",
      "         8      181589.6846            6.63m\n",
      "         9      181039.7512            6.72m\n",
      "        10      180567.0186            6.63m\n",
      "        20      176393.1607            6.26m\n",
      "        30      172917.1500            6.15m\n",
      "        40      169905.6754            5.87m\n",
      "        50      167451.1060            5.59m\n",
      "        60      165397.3164            5.38m\n",
      "        70      163573.0469            5.17m\n",
      "        80      162247.2159            4.95m\n",
      "        90      161094.5303            4.71m\n",
      "       100      160042.0403            4.47m\n",
      "       200      153071.1052            2.27m\n",
      "       300      149266.7486            0.00s\n"
     ]
    }
   ],
   "source": [
    "from sklearn.ensemble import GradientBoostingClassifier\n",
    "grid_search = GradientBoostingClassifier(learning_rate=0.15,max_depth=5, min_samples_split=1200, n_estimators= 300, verbose = 1)\n",
    "grid_search.fit(X_train, y_train.flatten())\n",
    "y_pred = grid_search.predict(X_test)\n",
    "from sklearn.metrics import f1_score\n",
    "f1_score = f1_score(y_test, y_pred, average='micro')"
   ]
  },
  {
   "cell_type": "markdown",
   "metadata": {},
   "source": [
    "#### Let's take a look at the confusion matrix:"
   ]
  },
  {
   "cell_type": "code",
   "execution_count": 44,
   "metadata": {},
   "outputs": [],
   "source": [
    "from sklearn.metrics import confusion_matrix\n",
    "conf_matriz = confusion_matrix(y_test, y_pred)"
   ]
  },
  {
   "cell_type": "markdown",
   "metadata": {},
   "source": [
    "#### Last step is to save the results correctly to upload the file to the Drivendata website to get the results of our prediction:"
   ]
  },
  {
   "cell_type": "code",
   "execution_count": 45,
   "metadata": {},
   "outputs": [],
   "source": [
    "test_x = pd.read_csv(path + \"/test_values.csv\")\n",
    "test_data = pd.get_dummies(test_x)\n",
    "\n",
    "for elem in test_data.columns:\n",
    "  if elem not in sample.columns:\n",
    "      test_data.drop(elem, axis=1, inplace=True)\n",
    "\n",
    "test_data = selector.transform(test_data)       "
   ]
  },
  {
   "cell_type": "code",
   "execution_count": 47,
   "metadata": {},
   "outputs": [],
   "source": [
    "y_pred_test = grid_search.predict(test_data)\n",
    "y_pred_test = pd.DataFrame(y_pred_test, columns = [\"damage_grade\"])\n",
    "building = test_x.loc[:,\"building_id\"]\n",
    "building = pd.DataFrame(building, columns = [\"building_id\"])\n",
    "solucion = pd.concat([building, y_pred_test], axis = 1)\n",
    "\n",
    "solucion.to_csv(path +'/solution.csv', index = False)"
   ]
  }
 ],
 "metadata": {
  "kernelspec": {
   "display_name": "Python 3",
   "language": "python",
   "name": "python3"
  },
  "language_info": {
   "codemirror_mode": {
    "name": "ipython",
    "version": 3
   },
   "file_extension": ".py",
   "mimetype": "text/x-python",
   "name": "python",
   "nbconvert_exporter": "python",
   "pygments_lexer": "ipython3",
   "version": "3.7.7"
  }
 },
 "nbformat": 4,
 "nbformat_minor": 4
}
