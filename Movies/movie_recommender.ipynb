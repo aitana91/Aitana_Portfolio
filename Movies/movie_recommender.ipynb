{
 "cells": [
  {
   "cell_type": "markdown",
   "metadata": {},
   "source": [
    "# Movies Recommendation's System"
   ]
  },
  {
   "cell_type": "markdown",
   "metadata": {},
   "source": [
    "### Development of a basic recommendation system using Python and Pandas. \n",
    "\n",
    "### In this case the recommendation is based on the movies that the user has watched. We will use the cosine simmilarity to find the most similar users and we will recommend the user the most watched movies among these similar users."
   ]
  },
  {
   "cell_type": "code",
   "execution_count": 1,
   "metadata": {},
   "outputs": [],
   "source": [
    "import numpy as np\n",
    "import pandas as pd \n",
    "from tqdm import tqdm\n",
    "import math"
   ]
  },
  {
   "cell_type": "markdown",
   "metadata": {},
   "source": [
    "#### We need to create a function to get the name of the movie based on its movie Id. We will use this function at the end of the notebook:"
   ]
  },
  {
   "cell_type": "code",
   "execution_count": 2,
   "metadata": {},
   "outputs": [],
   "source": [
    "def get_title(num):\n",
    "    title = links.loc[links[\"movieId\"] == num, \"Pelicula\"]    \n",
    "    return title"
   ]
  },
  {
   "cell_type": "markdown",
   "metadata": {},
   "source": [
    "#### Let's import the data:"
   ]
  },
  {
   "cell_type": "code",
   "execution_count": 4,
   "metadata": {},
   "outputs": [],
   "source": [
    "path = r\"C:\\Users\\usuario\\Desktop\\Nebulova\\Curso\\Machine Learning\\Ejercicios\\Movies\"\n",
    "ratings = pd.read_csv(path + \"/ratings_small.csv\")\n",
    "movies_metadata = pd.read_csv(path + \"/movies_metadata.csv\", low_memory=False)\n",
    "links = pd.read_csv(path + \"/links_small.csv\")\n",
    "#There are some missing values. We will fill them with a -1 value\n",
    "links[\"tmdbId\"] = links[\"tmdbId\"].fillna(-1).astype(int)"
   ]
  },
  {
   "cell_type": "markdown",
   "metadata": {},
   "source": [
    "#### In the dataset there are some rows where the id it's a date instead of a number, which is converting the column type to object. We will remove these rows and transform the column to int:"
   ]
  },
  {
   "cell_type": "code",
   "execution_count": 5,
   "metadata": {},
   "outputs": [],
   "source": [
    "rowsDrop = list()\n",
    "for i in range(len(movies_metadata[\"id\"])):\n",
    "    if not movies_metadata[\"id\"][i].isdigit():\n",
    "        rowsDrop.append(i)\n",
    "movies_metadata.drop(index=rowsDrop, inplace=True)\n",
    "movies_metadata[\"id\"] = movies_metadata[\"id\"].astype(int)"
   ]
  },
  {
   "cell_type": "markdown",
   "metadata": {},
   "source": [
    "#### We need to create now an array with the movies' names:"
   ]
  },
  {
   "cell_type": "code",
   "execution_count": 6,
   "metadata": {},
   "outputs": [],
   "source": [
    "peliculas = []\n",
    "for elem in links[\"tmdbId\"]:\n",
    "    if elem == -1:\n",
    "        pass\n",
    "    elif movies_metadata.loc[movies_metadata.id == elem ,'id'].any():\n",
    "        movie = movies_metadata.loc[movies_metadata.id == elem ,'original_title'].values\n",
    "        peliculas.append(movie[0])\n",
    "    else:\n",
    "        pass"
   ]
  },
  {
   "cell_type": "markdown",
   "metadata": {},
   "source": [
    "#### This array should be added to the links dataframe to have all the information of the movies in the same table:"
   ]
  },
  {
   "cell_type": "code",
   "execution_count": 7,
   "metadata": {},
   "outputs": [],
   "source": [
    "peliculas = pd.DataFrame(peliculas, columns = [\"Pelicula\"])\n",
    "links = pd.concat([links, peliculas], axis=1)\n",
    "#We drop those movies with no title\n",
    "links.dropna(subset = [\"Pelicula\"], inplace=True)"
   ]
  },
  {
   "cell_type": "markdown",
   "metadata": {},
   "source": [
    "#### We can add now the titles to the rating's dataframe:"
   ]
  },
  {
   "cell_type": "code",
   "execution_count": 8,
   "metadata": {},
   "outputs": [],
   "source": [
    "peliculas_ratings = []\n",
    "for peli in ratings[\"movieId\"]:\n",
    "    if links.loc[links.movieId == peli ,'movieId'].any():\n",
    "        movie = links.loc[links.movieId == peli ,'Pelicula'].values\n",
    "        peliculas_ratings.append(movie[0])\n",
    "    else:\n",
    "        peliculas_ratings.append(0)"
   ]
  },
  {
   "cell_type": "code",
   "execution_count": 9,
   "metadata": {},
   "outputs": [
    {
     "data": {
      "text/html": [
       "<div>\n",
       "<style scoped>\n",
       "    .dataframe tbody tr th:only-of-type {\n",
       "        vertical-align: middle;\n",
       "    }\n",
       "\n",
       "    .dataframe tbody tr th {\n",
       "        vertical-align: top;\n",
       "    }\n",
       "\n",
       "    .dataframe thead th {\n",
       "        text-align: right;\n",
       "    }\n",
       "</style>\n",
       "<table border=\"1\" class=\"dataframe\">\n",
       "  <thead>\n",
       "    <tr style=\"text-align: right;\">\n",
       "      <th></th>\n",
       "      <th>userId</th>\n",
       "      <th>movieId</th>\n",
       "      <th>rating</th>\n",
       "      <th>timestamp</th>\n",
       "      <th>Titulo</th>\n",
       "    </tr>\n",
       "  </thead>\n",
       "  <tbody>\n",
       "    <tr>\n",
       "      <th>0</th>\n",
       "      <td>1</td>\n",
       "      <td>31</td>\n",
       "      <td>2.5</td>\n",
       "      <td>1260759144</td>\n",
       "      <td>Dangerous Minds</td>\n",
       "    </tr>\n",
       "    <tr>\n",
       "      <th>1</th>\n",
       "      <td>1</td>\n",
       "      <td>1029</td>\n",
       "      <td>3.0</td>\n",
       "      <td>1260759179</td>\n",
       "      <td>Alice in Wonderland</td>\n",
       "    </tr>\n",
       "    <tr>\n",
       "      <th>2</th>\n",
       "      <td>1</td>\n",
       "      <td>1061</td>\n",
       "      <td>3.0</td>\n",
       "      <td>1260759182</td>\n",
       "      <td>Shall We Dance</td>\n",
       "    </tr>\n",
       "    <tr>\n",
       "      <th>3</th>\n",
       "      <td>1</td>\n",
       "      <td>1129</td>\n",
       "      <td>2.0</td>\n",
       "      <td>1260759185</td>\n",
       "      <td>Manon des Sources</td>\n",
       "    </tr>\n",
       "    <tr>\n",
       "      <th>4</th>\n",
       "      <td>1</td>\n",
       "      <td>1172</td>\n",
       "      <td>4.0</td>\n",
       "      <td>1260759205</td>\n",
       "      <td>La double vie de Véronique</td>\n",
       "    </tr>\n",
       "  </tbody>\n",
       "</table>\n",
       "</div>"
      ],
      "text/plain": [
       "   userId  movieId  rating   timestamp                      Titulo\n",
       "0       1       31     2.5  1260759144             Dangerous Minds\n",
       "1       1     1029     3.0  1260759179         Alice in Wonderland\n",
       "2       1     1061     3.0  1260759182              Shall We Dance\n",
       "3       1     1129     2.0  1260759185           Manon des Sources\n",
       "4       1     1172     4.0  1260759205  La double vie de Véronique"
      ]
     },
     "execution_count": 9,
     "metadata": {},
     "output_type": "execute_result"
    }
   ],
   "source": [
    "peliculas_ratings = pd.DataFrame(peliculas_ratings, columns = [\"Titulo\"])\n",
    "ratings = pd.concat([ratings, peliculas_ratings], axis=1)\n",
    "ratings.head()"
   ]
  },
  {
   "cell_type": "markdown",
   "metadata": {},
   "source": [
    "#### Last step before begining with the algorithm is to create a matrix where we can see which movies have been seen by each user:"
   ]
  },
  {
   "cell_type": "code",
   "execution_count": 10,
   "metadata": {},
   "outputs": [
    {
     "name": "stderr",
     "output_type": "stream",
     "text": [
      "100%|████████████████████████████████████████████████████████████████████████████████| 671/671 [00:49<00:00, 13.50it/s]\n"
     ]
    }
   ],
   "source": [
    "mapMovieId = pd.DataFrame(ratings[\"movieId\"].unique(), columns=[\"movieId\"]).sort_values(by=\"movieId\").reset_index(drop=True)\n",
    "mapUserId = pd.DataFrame(ratings[\"userId\"].unique(), columns=[\"userId\"]).sort_values(by=\"userId\").reset_index(drop=True)\n",
    "#Creation of a zero-matrix with shape: users x movies\n",
    "matrix = np.zeros((mapUserId.shape[0], mapMovieId.shape[0]))\n",
    "\n",
    "#If the user has seen the movie, we will replace the 0 with a 1:\n",
    "for index, movies in tqdm(ratings.groupby(by=\"userId\")[\"movieId\"].apply(list).iteritems(), total=matrix.shape[0]):\n",
    "    user_row = mapUserId.loc[mapUserId[\"userId\"] == index, \"userId\"].index[0]\n",
    "    for movie in movies:\n",
    "        movie_col = mapMovieId.loc[mapMovieId[\"movieId\"] == movie, \"movieId\"].index[0]\n",
    "        matrix[user_row, movie_col] = 1"
   ]
  },
  {
   "cell_type": "code",
   "execution_count": 11,
   "metadata": {},
   "outputs": [],
   "source": [
    "matrix = pd.DataFrame(matrix, columns = mapMovieId.iloc[:,0])"
   ]
  },
  {
   "cell_type": "markdown",
   "metadata": {},
   "source": [
    "### Cosine Similarity "
   ]
  },
  {
   "cell_type": "markdown",
   "metadata": {},
   "source": [
    "#### Let's suppose that the user has seen and liked the following movies:"
   ]
  },
  {
   "cell_type": "code",
   "execution_count": 12,
   "metadata": {},
   "outputs": [],
   "source": [
    "gustos = [\"Singin' in the rain\", \"Breakfast at Tiffany's\", \"Casablanca\", \"The Wizard of Oz\",\n",
    "          \"Gone with the Wind\", \"Citizen Kane\", \"Giant\", \"East of Eden\"]"
   ]
  },
  {
   "cell_type": "markdown",
   "metadata": {},
   "source": [
    "#### We have to find the corresponding movies IDs:"
   ]
  },
  {
   "cell_type": "code",
   "execution_count": 13,
   "metadata": {},
   "outputs": [],
   "source": [
    "gustos_movieId = []\n",
    "for opcion in gustos:\n",
    "    if links.loc[links[\"Pelicula\"] == opcion, \"movieId\"].values.any():\n",
    "        opc = links.loc[links[\"Pelicula\"] == opcion, \"movieId\"].values[0]\n",
    "        gustos_movieId.append(opc)\n",
    "    else:\n",
    "        pass"
   ]
  },
  {
   "cell_type": "markdown",
   "metadata": {},
   "source": [
    "#### Next step is to create a dataframe so that we can calculate the cosine similarity with each user on the dataframe:"
   ]
  },
  {
   "cell_type": "code",
   "execution_count": 14,
   "metadata": {},
   "outputs": [],
   "source": [
    "new_user = np.zeros(matrix.shape[1])\n",
    "new_user = pd.DataFrame(new_user, index = mapMovieId.iloc[:,0])\n",
    "#Creation of the new user's array:\n",
    "for columna in new_user.index:\n",
    "    if columna in gustos_movieId:\n",
    "        new_user.loc[columna, 0] = 1\n",
    "new_user = new_user.iloc[:,0]\n",
    "\n",
    "new_user = pd.DataFrame(new_user)\n",
    "new_user = new_user.T"
   ]
  },
  {
   "cell_type": "markdown",
   "metadata": {},
   "source": [
    "#### It's time now to apply the algorithm:"
   ]
  },
  {
   "cell_type": "code",
   "execution_count": 15,
   "metadata": {},
   "outputs": [],
   "source": [
    "from scipy.spatial import distance\n",
    "cosine = []\n",
    "for fila in range(matrix.shape[0]):\n",
    "    sim = 1 - distance.cosine(matrix.loc[fila,:].values.reshape(1,-1), new_user)\n",
    "    cosine.append(sim)"
   ]
  },
  {
   "cell_type": "markdown",
   "metadata": {},
   "source": [
    "#### We should add this information to the dataframe to be able to manage all the information:"
   ]
  },
  {
   "cell_type": "code",
   "execution_count": 16,
   "metadata": {},
   "outputs": [],
   "source": [
    "cosine = pd.DataFrame(cosine)\n",
    "final = pd.concat([matrix, cosine], axis = 1)\n",
    "final.rename(columns = {0:'cosine_sim'}, inplace=True)"
   ]
  },
  {
   "cell_type": "markdown",
   "metadata": {},
   "source": [
    "#### If we order now the dataframe based on the cosine similarity obtained, we can get the most similar ones:"
   ]
  },
  {
   "cell_type": "code",
   "execution_count": 17,
   "metadata": {},
   "outputs": [],
   "source": [
    "final = final.sort_values(by=['cosine_sim'], ascending=False)\n",
    "#We will work from now on with the 30 most similars:\n",
    "cercanos = final.iloc[:30,:]"
   ]
  },
  {
   "cell_type": "markdown",
   "metadata": {},
   "source": [
    "#### We should add up each columns to see which movies are the most seen among these users:"
   ]
  },
  {
   "cell_type": "code",
   "execution_count": 18,
   "metadata": {},
   "outputs": [],
   "source": [
    "suma_columna = []\n",
    "for col in range(cercanos.shape[1]-1):\n",
    "    suma = cercanos.iloc[:,col].sum()\n",
    "    suma_columna.append(suma)"
   ]
  },
  {
   "cell_type": "markdown",
   "metadata": {},
   "source": [
    "#### Let's add this row to the dataset:"
   ]
  },
  {
   "cell_type": "code",
   "execution_count": 19,
   "metadata": {},
   "outputs": [],
   "source": [
    "suma_columna = pd.Series(suma_columna, index = mapMovieId.iloc[:,0], name = \"suma\")\n",
    "suma_columna = pd.DataFrame(suma_columna).T\n",
    "\n",
    "cercanos_final = []\n",
    "cercanos_final = pd.concat([cercanos, suma_columna])"
   ]
  },
  {
   "cell_type": "markdown",
   "metadata": {},
   "source": [
    "#### Ordering the dataset based on this last row added, we can get the movies we should recommend to the new user:"
   ]
  },
  {
   "cell_type": "code",
   "execution_count": 20,
   "metadata": {},
   "outputs": [],
   "source": [
    "resultados_ordenados = cercanos_final.sort_values(by=\"suma\", ascending=False, axis=1)"
   ]
  },
  {
   "cell_type": "markdown",
   "metadata": {},
   "source": [
    "#### The 3 movie's recommendations for this user are:"
   ]
  },
  {
   "cell_type": "code",
   "execution_count": 22,
   "metadata": {},
   "outputs": [
    {
     "name": "stdout",
     "output_type": "stream",
     "text": [
      "733    Sabrina\n",
      "Name: Pelicula, dtype: object\n",
      "232    Star Wars\n",
      "Name: Pelicula, dtype: object\n",
      "729    Charade\n",
      "Name: Pelicula, dtype: object\n"
     ]
    }
   ],
   "source": [
    "cont = 0\n",
    "buenos = 0\n",
    "while buenos < 3:\n",
    "    movie = get_title(resultados_ordenados.columns[cont]).iloc[0]\n",
    "    if movie in gustos:\n",
    "        cont += 1\n",
    "    else:    \n",
    "        print(get_title(resultados_ordenados.columns[cont]))\n",
    "        buenos += 1\n",
    "        cont += 1"
   ]
  }
 ],
 "metadata": {
  "kernelspec": {
   "display_name": "Python 3",
   "language": "python",
   "name": "python3"
  },
  "language_info": {
   "codemirror_mode": {
    "name": "ipython",
    "version": 3
   },
   "file_extension": ".py",
   "mimetype": "text/x-python",
   "name": "python",
   "nbconvert_exporter": "python",
   "pygments_lexer": "ipython3",
   "version": "3.7.7"
  }
 },
 "nbformat": 4,
 "nbformat_minor": 4
}
