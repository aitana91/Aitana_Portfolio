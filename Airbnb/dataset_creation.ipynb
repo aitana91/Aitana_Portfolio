{
 "cells": [
  {
   "cell_type": "markdown",
   "metadata": {},
   "source": [
    "# Dataset creation"
   ]
  },
  {
   "cell_type": "markdown",
   "metadata": {},
   "source": [
    "#### First step in the project is to create the dataset we are going to work with."
   ]
  },
  {
   "cell_type": "code",
   "execution_count": 1,
   "metadata": {},
   "outputs": [],
   "source": [
    "import pandas as pd\n",
    "import numpy as np\n",
    "import copy\n",
    "from tqdm import tqdm\n",
    "import pickle\n",
    "import seaborn as sns \n",
    "from collections import Counter\n",
    "import matplotlib.pyplot as plt"
   ]
  },
  {
   "cell_type": "markdown",
   "metadata": {},
   "source": [
    "#### We create a function to remove outliers in the dataset. We will use it when cleaning the data:"
   ]
  },
  {
   "cell_type": "code",
   "execution_count": 10,
   "metadata": {},
   "outputs": [],
   "source": [
    "def outliers(data, column):\n",
    "    # First quartile (Q1)\n",
    "    Q1 = np.percentile(data[column], 25)\n",
    "    # Third quartile (Q3)\n",
    "    Q3 = np.percentile(data[column], 75)\n",
    "    # Interquaritle range (IQR)\n",
    "    IQR = Q3 - Q1\n",
    "    down = Q1 - 1.5*IQR\n",
    "    up =   Q3 + 1.5*IQR\n",
    "    return data.loc[(data[column] < down) | (data[column] > up),\n",
    "                column].index.values"
   ]
  },
  {
   "cell_type": "markdown",
   "metadata": {},
   "source": [
    "#### Let's upload the dataset that contains the data of each apartment:"
   ]
  },
  {
   "cell_type": "code",
   "execution_count": 2,
   "metadata": {},
   "outputs": [],
   "source": [
    "path = r\"C:\\Users\\usuario\\Desktop\"\n",
    "data = pd.read_csv(path + \"/listings.csv\", quotechar='\"', engine = \"python\", encoding = \"utf8\")"
   ]
  },
  {
   "cell_type": "markdown",
   "metadata": {},
   "source": [
    "#### Let's take a look at the columns:"
   ]
  },
  {
   "cell_type": "code",
   "execution_count": 5,
   "metadata": {},
   "outputs": [
    {
     "data": {
      "text/plain": [
       "Index(['id', 'listing_url', 'scrape_id', 'last_scraped', 'name', 'summary',\n",
       "       'space', 'description', 'experiences_offered', 'neighborhood_overview',\n",
       "       ...\n",
       "       'instant_bookable', 'is_business_travel_ready', 'cancellation_policy',\n",
       "       'require_guest_profile_picture', 'require_guest_phone_verification',\n",
       "       'calculated_host_listings_count',\n",
       "       'calculated_host_listings_count_entire_homes',\n",
       "       'calculated_host_listings_count_private_rooms',\n",
       "       'calculated_host_listings_count_shared_rooms', 'reviews_per_month'],\n",
       "      dtype='object', length=106)"
      ]
     },
     "execution_count": 5,
     "metadata": {},
     "output_type": "execute_result"
    }
   ],
   "source": [
    "data.columns"
   ]
  },
  {
   "cell_type": "markdown",
   "metadata": {},
   "source": [
    "#### The dataset contains 106 columns, most of which are links, descriptions or information we won't work with because they don't provide any useful information. We will remove these columns:"
   ]
  },
  {
   "cell_type": "code",
   "execution_count": 6,
   "metadata": {},
   "outputs": [],
   "source": [
    "datos = data.drop([\"experiences_offered\", \"listing_url\", \"thumbnail_url\", \"medium_url\", \"picture_url\",\n",
    "                   \"xl_picture_url\", \"host_thumbnail_url\", \"host_picture_url\", \"jurisdiction_names\",\n",
    "                   \"scrape_id\", \"last_scraped\", \"host_response_time\", \"name\", \"summary\", \"space\", \"description\",\n",
    "                   \"neighborhood_overview\", \"notes\", \"transit\", \"access\", \"interaction\",\n",
    "                   \"house_rules\", \"host_id\", \"host_url\", \"host_name\",\"host_neighbourhood\",  \"host_location\", \"host_about\",\n",
    "                   \"host_verifications\", \"street\", \"neighbourhood\", \"neighbourhood_cleansed\",\n",
    "                   \"city\", \"state\", \"market\", \"zipcode\", \"smart_location\", \"country_code\",\n",
    "                   \"country\", \"is_location_exact\", \"minimum_minimum_nights\", \"maximum_minimum_nights\",\n",
    "                   \"minimum_maximum_nights\", \"maximum_maximum_nights\", \"minimum_nights_avg_ntm\",\n",
    "                   \"maximum_nights_avg_ntm\", \"calendar_updated\", \"availability_30\", \"availability_60\",\n",
    "                   \"availability_90\", \"calendar_last_scraped\", \"first_review\", \"last_review\", \"license\",\n",
    "                   \"weekly_price\", \"monthly_price\", \"host_total_listings_count\", \"requires_license\",\n",
    "                   \"is_business_travel_ready\", \"calculated_host_listings_count_entire_homes\",\n",
    "                   \"calculated_host_listings_count_private_rooms\", \"calculated_host_listings_count_shared_rooms\",\n",
    "                   \"host_response_rate\", \"host_acceptance_rate\"\n",
    "                   ], \n",
    "                  axis = 1)"
   ]
  },
  {
   "cell_type": "markdown",
   "metadata": {},
   "source": [
    "#### The dataset contains now 42 columns. We continue with the analysis to confirm if they are useful or they can be removed.\n",
    "\n",
    "#### The next step is to transform the price columns from object to float type:"
   ]
  },
  {
   "cell_type": "code",
   "execution_count": 7,
   "metadata": {},
   "outputs": [],
   "source": [
    "monetarias = [\"price\", \"security_deposit\", \"cleaning_fee\", \"extra_people\"]\n",
    "for col in monetarias:\n",
    "    datos[col] = datos[col].apply(lambda x: float(x.replace(\"$\",\"\").replace(\",\",\"\")) if not pd.isnull(x) else np.nan)"
   ]
  },
  {
   "cell_type": "markdown",
   "metadata": {},
   "source": [
    "#### Let's take a look at the prices:"
   ]
  },
  {
   "cell_type": "code",
   "execution_count": 8,
   "metadata": {},
   "outputs": [
    {
     "data": {
      "text/plain": [
       "<matplotlib.axes._subplots.AxesSubplot at 0x1c9bfcff7c8>"
      ]
     },
     "execution_count": 8,
     "metadata": {},
     "output_type": "execute_result"
    },
    {
     "data": {
      "image/png": "[encoded data removed]",
      "text/plain": [
       "<Figure size 432x288 with 1 Axes>"
      ]
     },
     "metadata": {
      "needs_background": "light"
     },
     "output_type": "display_data"
    }
   ],
   "source": [
    "datos[\"price\"].describe()\n",
    "sns.distplot(datos[\"price\"]) "
   ]
  },
  {
   "cell_type": "markdown",
   "metadata": {},
   "source": [
    "#### As we can see, there are some outliers that would have a big impact on our prediction. However, before removing them, we take a look at some of them to see if the price is real or if it's a mistake and it looks that there were some issues during the scrapping because the price is not in any case over 300 dollars.\n",
    "\n",
    "#### We remove the outliers to have a much better prediction:"
   ]
  },
  {
   "cell_type": "code",
   "execution_count": 11,
   "metadata": {},
   "outputs": [
    {
     "data": {
      "text/plain": [
       "<matplotlib.axes._subplots.AxesSubplot at 0x1c9c10e0408>"
      ]
     },
     "execution_count": 11,
     "metadata": {},
     "output_type": "execute_result"
    },
    {
     "data": {
      "image/png": "[encoded data removed]",
      "text/plain": [
       "<Figure size 432x288 with 1 Axes>"
      ]
     },
     "metadata": {
      "needs_background": "light"
     },
     "output_type": "display_data"
    }
   ],
   "source": [
    "datos.drop(index=outliers(datos, \"price\"), inplace=True)\n",
    "datos = datos.reset_index(drop = True)\n",
    "\n",
    "datos[\"price\"].describe()\n",
    "sns.distplot(datos[\"price\"]) "
   ]
  },
  {
   "cell_type": "markdown",
   "metadata": {},
   "source": [
    "#### We can clearly see that the distribution is much better now."
   ]
  },
  {
   "cell_type": "markdown",
   "metadata": {},
   "source": [
    "#### Now it's time to change those columns with True-False information to 1-0 :"
   ]
  },
  {
   "cell_type": "code",
   "execution_count": 12,
   "metadata": {},
   "outputs": [],
   "source": [
    "datos['instant_bookable'] = datos['instant_bookable'].map({'f':0,'t':1})\n",
    "datos['host_is_superhost'] = datos['host_is_superhost'].map({'f':0,'t':1})\n",
    "datos['host_has_profile_pic'] = datos['host_has_profile_pic'].map({'f':0,'t':1})\n",
    "datos['host_identity_verified'] = datos['host_identity_verified'].map({'f':0,'t':1})\n",
    "datos['has_availability'] = datos['has_availability'].map({'f':0,'t':1})\n",
    "datos['require_guest_profile_picture'] = datos['require_guest_profile_picture'].map({'f':0,'t':1})\n",
    "datos['require_guest_phone_verification'] = datos['require_guest_phone_verification'].map({'f':0,'t':1})"
   ]
  },
  {
   "cell_type": "markdown",
   "metadata": {},
   "source": [
    "#### Let's take a look now at the NaN in each column:"
   ]
  },
  {
   "cell_type": "code",
   "execution_count": 13,
   "metadata": {},
   "outputs": [
    {
     "data": {
      "text/plain": [
       "id                                      0\n",
       "host_since                              3\n",
       "host_is_superhost                       3\n",
       "host_listings_count                     3\n",
       "host_has_profile_pic                    3\n",
       "host_identity_verified                  3\n",
       "neighbourhood_group_cleansed            0\n",
       "latitude                                0\n",
       "longitude                               0\n",
       "property_type                           0\n",
       "room_type                               0\n",
       "accommodates                            0\n",
       "bathrooms                              15\n",
       "bedrooms                               35\n",
       "beds                                  294\n",
       "bed_type                                1\n",
       "amenities                               0\n",
       "square_feet                         18945\n",
       "price                                   0\n",
       "security_deposit                     6106\n",
       "cleaning_fee                         4593\n",
       "guests_included                         0\n",
       "extra_people                            0\n",
       "minimum_nights                          0\n",
       "maximum_nights                          0\n",
       "has_availability                        0\n",
       "availability_365                        0\n",
       "number_of_reviews                       0\n",
       "number_of_reviews_ltm                   0\n",
       "review_scores_rating                 3955\n",
       "review_scores_accuracy               3959\n",
       "review_scores_cleanliness            3956\n",
       "review_scores_checkin                3957\n",
       "review_scores_communication          3957\n",
       "review_scores_location               3959\n",
       "review_scores_value                  3960\n",
       "instant_bookable                        0\n",
       "cancellation_policy                     0\n",
       "require_guest_profile_picture           0\n",
       "require_guest_phone_verification        0\n",
       "calculated_host_listings_count          0\n",
       "reviews_per_month                    3735\n",
       "dtype: int64"
      ]
     },
     "execution_count": 13,
     "metadata": {},
     "output_type": "execute_result"
    }
   ],
   "source": [
    "datos.isna().sum()"
   ]
  },
  {
   "cell_type": "markdown",
   "metadata": {},
   "source": [
    "#### It's time to work with these NaNs. \n",
    "#### We will tackle this task following different procedures, based on the information they contain."
   ]
  },
  {
   "cell_type": "markdown",
   "metadata": {},
   "source": [
    "#### In these columns with 1-0 information, we will replace the NaNs with 0, guessing that if it doesn't contains the information, it means that it's false:"
   ]
  },
  {
   "cell_type": "code",
   "execution_count": 14,
   "metadata": {},
   "outputs": [],
   "source": [
    "datos[\"host_is_superhost\"].fillna(0, inplace=True)\n",
    "datos[\"host_has_profile_pic\"].fillna(0, inplace=True)\n",
    "datos[\"host_identity_verified\"].fillna(0, inplace=True)"
   ]
  },
  {
   "cell_type": "code",
   "execution_count": null,
   "metadata": {},
   "outputs": [],
   "source": [
    "# In this case it's 1 because it's the number of apartments that the host has. It's at least one:\n",
    "datos[\"host_listings_count\"].fillna(1, inplace=True)"
   ]
  },
  {
   "cell_type": "markdown",
   "metadata": {},
   "source": [
    "#### In the case of the security and the cleaning fee, we will supposed that if it's not provided, it's included in the price:"
   ]
  },
  {
   "cell_type": "code",
   "execution_count": 15,
   "metadata": {},
   "outputs": [],
   "source": [
    "datos[\"security_deposit\"].fillna(0.0, inplace=True)\n",
    "datos[\"cleaning_fee\"].fillna(0.0, inplace=True)"
   ]
  },
  {
   "cell_type": "markdown",
   "metadata": {},
   "source": [
    "#### For the number of bedrooms and bathrooms, we will fill them with 1:"
   ]
  },
  {
   "cell_type": "code",
   "execution_count": 16,
   "metadata": {},
   "outputs": [],
   "source": [
    "datos[\"bedrooms\"].fillna(1, inplace=True)\n",
    "datos[\"bathrooms\"].fillna(1, inplace=True)"
   ]
  },
  {
   "cell_type": "markdown",
   "metadata": {},
   "source": [
    "#### In the dataset, if the number of reviews is 0, the review_scores_rating, review_scores_accuracy... are NaNs, so will replace them by 0:"
   ]
  },
  {
   "cell_type": "code",
   "execution_count": 17,
   "metadata": {},
   "outputs": [
    {
     "name": "stderr",
     "output_type": "stream",
     "text": [
      "100%|███████████████████████████████████████████████████████████████████████████| 19221/19221 [00:22<00:00, 871.81it/s]\n"
     ]
    }
   ],
   "source": [
    "for fila in tqdm(range(datos.shape[0])):\n",
    "    if (datos.loc[fila, \"number_of_reviews\"] == 0):\n",
    "        datos.loc[fila, \"review_scores_rating\"] = 0\n",
    "        datos.loc[fila, \"review_scores_accuracy\"] = 0\n",
    "        datos.loc[fila, \"review_scores_cleanliness\"] = 0\n",
    "        datos.loc[fila, \"review_scores_checkin\"] = 0\n",
    "        datos.loc[fila, \"review_scores_communication\"] = 0\n",
    "        datos.loc[fila, \"review_scores_location\"] = 0\n",
    "        datos.loc[fila, \"review_scores_value\"] = 0\n",
    "        datos.loc[fila, \"reviews_per_month\"] = 0"
   ]
  },
  {
   "cell_type": "markdown",
   "metadata": {},
   "source": [
    "#### There are now 220 aprox. NaNs in the review's columns. Most of them have just one review and 0 in the last year, so we will replace all these cases with 0:"
   ]
  },
  {
   "cell_type": "code",
   "execution_count": 18,
   "metadata": {},
   "outputs": [],
   "source": [
    "#quedan 220 aproximadamente, la gran mayoría con una única review y 0 en el último año, así que\n",
    "#reemplzamos por 0 también\n",
    "datos[\"review_scores_rating\"].fillna(0, inplace=True)  \n",
    "datos[\"review_scores_accuracy\"].fillna(0, inplace=True)\n",
    "datos[\"review_scores_cleanliness\"].fillna(0, inplace=True)\n",
    "datos[\"review_scores_checkin\"].fillna(0, inplace=True)  \n",
    "datos[\"review_scores_communication\"].fillna(0, inplace=True) \n",
    "datos[\"review_scores_location\"].fillna(0, inplace=True) \n",
    "datos[\"review_scores_value\"].fillna(0, inplace=True)    "
   ]
  },
  {
   "cell_type": "markdown",
   "metadata": {},
   "source": [
    "#### Let's take a look again at the NaNs to see what else should we do:"
   ]
  },
  {
   "cell_type": "code",
   "execution_count": 19,
   "metadata": {},
   "outputs": [
    {
     "data": {
      "text/plain": [
       "id                                      0\n",
       "host_since                              3\n",
       "host_is_superhost                       0\n",
       "host_listings_count                     0\n",
       "host_has_profile_pic                    0\n",
       "host_identity_verified                  0\n",
       "neighbourhood_group_cleansed            0\n",
       "latitude                                0\n",
       "longitude                               0\n",
       "property_type                           0\n",
       "room_type                               0\n",
       "accommodates                            0\n",
       "bathrooms                               0\n",
       "bedrooms                                0\n",
       "beds                                  294\n",
       "bed_type                                1\n",
       "amenities                               0\n",
       "square_feet                         18945\n",
       "price                                   0\n",
       "security_deposit                        0\n",
       "cleaning_fee                            0\n",
       "guests_included                         0\n",
       "extra_people                            0\n",
       "minimum_nights                          0\n",
       "maximum_nights                          0\n",
       "has_availability                        0\n",
       "availability_365                        0\n",
       "number_of_reviews                       0\n",
       "number_of_reviews_ltm                   0\n",
       "review_scores_rating                    0\n",
       "review_scores_accuracy                  0\n",
       "review_scores_cleanliness               0\n",
       "review_scores_checkin                   0\n",
       "review_scores_communication             0\n",
       "review_scores_location                  0\n",
       "review_scores_value                     0\n",
       "instant_bookable                        0\n",
       "cancellation_policy                     0\n",
       "require_guest_profile_picture           0\n",
       "require_guest_phone_verification        0\n",
       "calculated_host_listings_count          0\n",
       "reviews_per_month                       0\n",
       "dtype: int64"
      ]
     },
     "execution_count": 19,
     "metadata": {},
     "output_type": "execute_result"
    }
   ],
   "source": [
    "datos.isna().sum()"
   ]
  },
  {
   "cell_type": "markdown",
   "metadata": {},
   "source": [
    "#### For the bad type, we will write the most common one:"
   ]
  },
  {
   "cell_type": "code",
   "execution_count": 20,
   "metadata": {},
   "outputs": [],
   "source": [
    "datos[\"bed_type\"].fillna('Real Bed', inplace=True)"
   ]
  },
  {
   "cell_type": "markdown",
   "metadata": {},
   "source": [
    "#### In those rows with no date for the host registration, we will write the last date provided in the dataset:"
   ]
  },
  {
   "cell_type": "code",
   "execution_count": 21,
   "metadata": {},
   "outputs": [],
   "source": [
    "datos[\"host_since\"].fillna('2020-05-13', inplace=True)"
   ]
  },
  {
   "cell_type": "markdown",
   "metadata": {},
   "source": [
    "#### In the case of the square feet, since this information can have a significant impact on the price, we will replace the NaNs with a -1, so that the algorithm can learn:"
   ]
  },
  {
   "cell_type": "code",
   "execution_count": 22,
   "metadata": {},
   "outputs": [],
   "source": [
    "datos[\"square_feet\"].fillna(-1, inplace=True)"
   ]
  },
  {
   "cell_type": "markdown",
   "metadata": {},
   "source": [
    "#### Last column we should work on is the number of beds. We will fill it with the number of bedrooms that the apartment has: "
   ]
  },
  {
   "cell_type": "code",
   "execution_count": 23,
   "metadata": {},
   "outputs": [
    {
     "name": "stderr",
     "output_type": "stream",
     "text": [
      "100%|██████████████████████████████████████████████████████████████████████████| 19221/19221 [00:14<00:00, 1334.18it/s]\n"
     ]
    }
   ],
   "source": [
    "for fila in tqdm(range(datos.shape[0])):\n",
    "    datos.loc[fila, \"beds\"] = datos.loc[fila, \"bedrooms\"]"
   ]
  },
  {
   "cell_type": "markdown",
   "metadata": {},
   "source": [
    "#### Let's check that there are no NaNs now:"
   ]
  },
  {
   "cell_type": "code",
   "execution_count": 24,
   "metadata": {},
   "outputs": [
    {
     "data": {
      "text/plain": [
       "id                                  0\n",
       "host_since                          0\n",
       "host_is_superhost                   0\n",
       "host_listings_count                 0\n",
       "host_has_profile_pic                0\n",
       "host_identity_verified              0\n",
       "neighbourhood_group_cleansed        0\n",
       "latitude                            0\n",
       "longitude                           0\n",
       "property_type                       0\n",
       "room_type                           0\n",
       "accommodates                        0\n",
       "bathrooms                           0\n",
       "bedrooms                            0\n",
       "beds                                0\n",
       "bed_type                            0\n",
       "amenities                           0\n",
       "square_feet                         0\n",
       "price                               0\n",
       "security_deposit                    0\n",
       "cleaning_fee                        0\n",
       "guests_included                     0\n",
       "extra_people                        0\n",
       "minimum_nights                      0\n",
       "maximum_nights                      0\n",
       "has_availability                    0\n",
       "availability_365                    0\n",
       "number_of_reviews                   0\n",
       "number_of_reviews_ltm               0\n",
       "review_scores_rating                0\n",
       "review_scores_accuracy              0\n",
       "review_scores_cleanliness           0\n",
       "review_scores_checkin               0\n",
       "review_scores_communication         0\n",
       "review_scores_location              0\n",
       "review_scores_value                 0\n",
       "instant_bookable                    0\n",
       "cancellation_policy                 0\n",
       "require_guest_profile_picture       0\n",
       "require_guest_phone_verification    0\n",
       "calculated_host_listings_count      0\n",
       "reviews_per_month                   0\n",
       "dtype: int64"
      ]
     },
     "execution_count": 24,
     "metadata": {},
     "output_type": "execute_result"
    }
   ],
   "source": [
    "datos.isna().sum()"
   ]
  },
  {
   "cell_type": "markdown",
   "metadata": {},
   "source": [
    "#### We will check now the column types to see if any modification should be performed:"
   ]
  },
  {
   "cell_type": "code",
   "execution_count": 25,
   "metadata": {},
   "outputs": [
    {
     "name": "stdout",
     "output_type": "stream",
     "text": [
      "<class 'pandas.core.frame.DataFrame'>\n",
      "RangeIndex: 19221 entries, 0 to 19220\n",
      "Data columns (total 42 columns):\n",
      " #   Column                            Non-Null Count  Dtype  \n",
      "---  ------                            --------------  -----  \n",
      " 0   id                                19221 non-null  int64  \n",
      " 1   host_since                        19221 non-null  object \n",
      " 2   host_is_superhost                 19221 non-null  float64\n",
      " 3   host_listings_count               19221 non-null  float64\n",
      " 4   host_has_profile_pic              19221 non-null  float64\n",
      " 5   host_identity_verified            19221 non-null  float64\n",
      " 6   neighbourhood_group_cleansed      19221 non-null  object \n",
      " 7   latitude                          19221 non-null  float64\n",
      " 8   longitude                         19221 non-null  float64\n",
      " 9   property_type                     19221 non-null  object \n",
      " 10  room_type                         19221 non-null  object \n",
      " 11  accommodates                      19221 non-null  int64  \n",
      " 12  bathrooms                         19221 non-null  float64\n",
      " 13  bedrooms                          19221 non-null  float64\n",
      " 14  beds                              19221 non-null  float64\n",
      " 15  bed_type                          19221 non-null  object \n",
      " 16  amenities                         19221 non-null  object \n",
      " 17  square_feet                       19221 non-null  float64\n",
      " 18  price                             19221 non-null  float64\n",
      " 19  security_deposit                  19221 non-null  float64\n",
      " 20  cleaning_fee                      19221 non-null  float64\n",
      " 21  guests_included                   19221 non-null  int64  \n",
      " 22  extra_people                      19221 non-null  float64\n",
      " 23  minimum_nights                    19221 non-null  int64  \n",
      " 24  maximum_nights                    19221 non-null  int64  \n",
      " 25  has_availability                  19221 non-null  int64  \n",
      " 26  availability_365                  19221 non-null  int64  \n",
      " 27  number_of_reviews                 19221 non-null  int64  \n",
      " 28  number_of_reviews_ltm             19221 non-null  int64  \n",
      " 29  review_scores_rating              19221 non-null  float64\n",
      " 30  review_scores_accuracy            19221 non-null  float64\n",
      " 31  review_scores_cleanliness         19221 non-null  float64\n",
      " 32  review_scores_checkin             19221 non-null  float64\n",
      " 33  review_scores_communication       19221 non-null  float64\n",
      " 34  review_scores_location            19221 non-null  float64\n",
      " 35  review_scores_value               19221 non-null  float64\n",
      " 36  instant_bookable                  19221 non-null  int64  \n",
      " 37  cancellation_policy               19221 non-null  object \n",
      " 38  require_guest_profile_picture     19221 non-null  int64  \n",
      " 39  require_guest_phone_verification  19221 non-null  int64  \n",
      " 40  calculated_host_listings_count    19221 non-null  int64  \n",
      " 41  reviews_per_month                 19221 non-null  float64\n",
      "dtypes: float64(22), int64(13), object(7)\n",
      "memory usage: 6.2+ MB\n"
     ]
    }
   ],
   "source": [
    "datos.info()"
   ]
  },
  {
   "cell_type": "markdown",
   "metadata": {},
   "source": [
    "#### Just the \"host_since\"column, that contains a date, should be changed. To make the analysis easier, we will use just the year instead of the whole date:"
   ]
  },
  {
   "cell_type": "code",
   "execution_count": 26,
   "metadata": {},
   "outputs": [],
   "source": [
    "datos[\"host_since\"] = pd.to_datetime(datos[\"host_since\"]).dt.year"
   ]
  },
  {
   "cell_type": "markdown",
   "metadata": {},
   "source": [
    "#### In a paralel analysis, we have worked on the amenities contained in the \"amenities\" column and the most significant ones have been selected. Let's upload the information to work with it:"
   ]
  },
  {
   "cell_type": "code",
   "execution_count": 27,
   "metadata": {},
   "outputs": [],
   "source": [
    "with open(r\"C:\\Users\\usuario\\Desktop\", \"rb\") as file:\n",
    "    amen_elegidas = pickle.load(file)"
   ]
  },
  {
   "cell_type": "markdown",
   "metadata": {},
   "source": [
    "#### To be able to work with each of these amenities, we create a column for each one, containing 1 if the apartment/room has this amenity or 0 if it doesn't:"
   ]
  },
  {
   "cell_type": "code",
   "execution_count": 28,
   "metadata": {},
   "outputs": [],
   "source": [
    "for amenity in amen_elegidas:\n",
    "    datos[amenity] = datos['amenities'].str.contains(amenity)\n",
    "datos.drop(['amenities'], axis=1, inplace=True)\n",
    "for amenity in amen_elegidas:\n",
    "    datos[amenity] = datos[amenity].map({False:0,True:1})"
   ]
  },
  {
   "cell_type": "markdown",
   "metadata": {},
   "source": [
    "#### For a deeper analysis of the columns we have in the dataset and their impact in the price, we have analyzed each one in Power BI and we have observed that some of them can be removed because they have no correlation with the price:"
   ]
  },
  {
   "cell_type": "code",
   "execution_count": 29,
   "metadata": {},
   "outputs": [],
   "source": [
    "#Tras analizar los datos en PowerBI llegamos a la conclusión de que las siguientes columnas pueden \n",
    "#eliminarse también\n",
    "datos = datos.drop([\"beds\", \"translation missing: en.hosting_amenity_49\",\n",
    "                 \"translation missing: en.hosting_amenity_50\", \"calculated_host_listings_count\",\n",
    "                 \"has_availability\", \"host_has_profile_pic\", \"host_identity_verified\",\n",
    "                 \"host_listings_count\", \"maximum_nights\", \"minimum_nights\",\n",
    "                 \"number_of_reviews\", \"number_of_reviews_ltm\", \"Other\",\"review_scores_accuracy\", \"review_scores_communication\",\n",
    "                 \"review_scores_location\", \"review_scores_rating\", \"review_scores_value\", \"reviews_per_month\",\n",
    "                 \"review_scores_checkin\", \"review_scores_cleanliness\", \"Bed linens\", \"First aid kit\",\n",
    "                 \"Host greets you\", \"Pets allowed\"], \n",
    "                 axis = 1)"
   ]
  },
  {
   "cell_type": "markdown",
   "metadata": {},
   "source": [
    "#### As a final step we will save the dataset in a pickle to upload it easily when needed:"
   ]
  },
  {
   "cell_type": "code",
   "execution_count": 30,
   "metadata": {},
   "outputs": [],
   "source": [
    "with open(r\"C:\\Users\\usuario\\Desktop\", \"wb\") as file:\n",
    "    pickle.dump(datos, file)"
   ]
  }
 ],
 "metadata": {
  "kernelspec": {
   "display_name": "Python 3",
   "language": "python",
   "name": "python3"
  },
  "language_info": {
   "codemirror_mode": {
    "name": "ipython",
    "version": 3
   },
   "file_extension": ".py",
   "mimetype": "text/x-python",
   "name": "python",
   "nbconvert_exporter": "python",
   "pygments_lexer": "ipython3",
   "version": "3.7.7"
  }
 },
 "nbformat": 4,
 "nbformat_minor": 4
}
