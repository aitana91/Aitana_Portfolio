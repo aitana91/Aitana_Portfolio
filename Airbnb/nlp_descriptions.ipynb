{
 "cells": [
  {
   "cell_type": "markdown",
   "metadata": {},
   "source": [
    "# NLP applied to the descriptions"
   ]
  },
  {
   "cell_type": "markdown",
   "metadata": {},
   "source": [
    "#### The description column might be important when predicting the price so in order to add more useful information to our dataset, we decided to apply NLP on the description column to obtain the BoW, that will be use later.\n",
    "\n",
    "#### We will be working with spanish text, since we have previously translated all description to Spanish."
   ]
  },
  {
   "cell_type": "code",
   "execution_count": 9,
   "metadata": {},
   "outputs": [],
   "source": [
    "import pandas as pd\n",
    "import unicodedata\n",
    "import numpy as np\n",
    "from tqdm import tqdm\n",
    "import pickle\n",
    "import pymongo\n",
    "from pymongo import MongoClient\n",
    "import re\n",
    "import nltk\n",
    "from nltk.corpus import stopwords\n",
    "from nltk.stem import WordNetLemmatizer\n",
    "from nltk.stem.porter import PorterStemmer\n",
    "from nltk.corpus import webtext\n",
    "from nltk.probability import FreqDist\n",
    "from functools import reduce\n",
    "import matplotlib.pyplot as plt\n",
    "pd.options.mode.chained_assignment = None"
   ]
  },
  {
   "cell_type": "markdown",
   "metadata": {},
   "source": [
    "#### We need to define some functions to clean the texts:"
   ]
  },
  {
   "cell_type": "code",
   "execution_count": 2,
   "metadata": {},
   "outputs": [],
   "source": [
    "#This one is to remove the accents\n",
    "def strip_accents(text):\n",
    "    try:\n",
    "        text = unicode(text, 'utf-8')\n",
    "    except NameError:\n",
    "        pass\n",
    "\n",
    "    text = unicodedata.normalize('NFD', text)\\\n",
    "           .encode('ascii', 'ignore')\\\n",
    "           .decode(\"utf-8\")\n",
    "    return str(text)"
   ]
  },
  {
   "cell_type": "code",
   "execution_count": 3,
   "metadata": {},
   "outputs": [],
   "source": [
    "#This one is to clean the text removing the punctuation marks, extra spaces, numbers, stopwords and to lemmatize the words\n",
    "def pre_processing_es(text):\n",
    "    text = text.str.lower()\n",
    "    \n",
    "    deletePunct = re.compile(r'[\\.,_:€¡!*?¿;\\-\"\\(\\)\\[\\]\\{\\}%\\'�=$&+æ<></ \\>#@ \\ ]')\n",
    "    text = text.apply(lambda x: deletePunct.sub(\" \", x).strip())\n",
    "    \n",
    "    delete2Spaces = re.compile(r'\\s{2,}')\n",
    "    text = text.apply(lambda x: delete2Spaces.sub(\" \", x))\n",
    "    \n",
    "    deleteNumbers = re.compile(r'[0-9]')\n",
    "    text = text.apply(lambda x: deleteNumbers.sub(\"\", x))\n",
    "    \n",
    "    stop = stopwords.words('spanish')\n",
    "    text = text.apply(lambda x: \" \".join([i for i in x.split() if i not in stop]))\n",
    "    \n",
    "    text = text.apply(lambda x: strip_accents(x))\n",
    "    \n",
    "    wordnet_lemmatizer = WordNetLemmatizer()\n",
    "    text = text.apply(lambda x: \" \".join([wordnet_lemmatizer.lemmatize(i) for i in x.split()]))    \n",
    "    \n",
    "    return text"
   ]
  },
  {
   "cell_type": "markdown",
   "metadata": {},
   "source": [
    "#### In our case, we have uploaded all the data in MongoDB, so we will create now a table by retrieving the data we need:"
   ]
  },
  {
   "cell_type": "code",
   "execution_count": 10,
   "metadata": {},
   "outputs": [],
   "source": [
    "client = MongoClient('localhost', 27017)\n",
    "db = client.proyecto\n",
    "collection = db.alojamientos\n",
    "descrip = pd.DataFrame(list(collection.find({ \"traduccion\" : {\"$exists\" : True }})))\n",
    "datos = descrip[[\"id\", \"traduccion\", \"price\", \"room_type\"]]"
   ]
  },
  {
   "cell_type": "code",
   "execution_count": 11,
   "metadata": {},
   "outputs": [
    {
     "data": {
      "text/html": [
       "<div>\n",
       "<style scoped>\n",
       "    .dataframe tbody tr th:only-of-type {\n",
       "        vertical-align: middle;\n",
       "    }\n",
       "\n",
       "    .dataframe tbody tr th {\n",
       "        vertical-align: top;\n",
       "    }\n",
       "\n",
       "    .dataframe thead th {\n",
       "        text-align: right;\n",
       "    }\n",
       "</style>\n",
       "<table border=\"1\" class=\"dataframe\">\n",
       "  <thead>\n",
       "    <tr style=\"text-align: right;\">\n",
       "      <th></th>\n",
       "      <th>id</th>\n",
       "      <th>traduccion</th>\n",
       "      <th>price</th>\n",
       "      <th>room_type</th>\n",
       "    </tr>\n",
       "  </thead>\n",
       "  <tbody>\n",
       "    <tr>\n",
       "      <th>19215</th>\n",
       "      <td>43430853</td>\n",
       "      <td>Este apartamento rezuma exclusividad en todas ...</td>\n",
       "      <td>85.0</td>\n",
       "      <td>Entire home/apt</td>\n",
       "    </tr>\n",
       "    <tr>\n",
       "      <th>19216</th>\n",
       "      <td>43430860</td>\n",
       "      <td>Apartamento de un dormitorio en Avda. de Améri...</td>\n",
       "      <td>43.0</td>\n",
       "      <td>Entire home/apt</td>\n",
       "    </tr>\n",
       "    <tr>\n",
       "      <th>19217</th>\n",
       "      <td>43431846</td>\n",
       "      <td>Impresionante vivienda exclusiva en pleno cent...</td>\n",
       "      <td>174.0</td>\n",
       "      <td>Entire home/apt</td>\n",
       "    </tr>\n",
       "    <tr>\n",
       "      <th>19218</th>\n",
       "      <td>43437149</td>\n",
       "      <td>APARTAMENTO CON DOS HABITACIONES Y DOS BAÑOS. ...</td>\n",
       "      <td>80.0</td>\n",
       "      <td>Entire home/apt</td>\n",
       "    </tr>\n",
       "    <tr>\n",
       "      <th>19219</th>\n",
       "      <td>43440208</td>\n",
       "      <td>Los tabiques de Santa Ana I se han reducido a ...</td>\n",
       "      <td>64.0</td>\n",
       "      <td>Entire home/apt</td>\n",
       "    </tr>\n",
       "  </tbody>\n",
       "</table>\n",
       "</div>"
      ],
      "text/plain": [
       "             id                                         traduccion  price  \\\n",
       "19215  43430853  Este apartamento rezuma exclusividad en todas ...   85.0   \n",
       "19216  43430860  Apartamento de un dormitorio en Avda. de Améri...   43.0   \n",
       "19217  43431846  Impresionante vivienda exclusiva en pleno cent...  174.0   \n",
       "19218  43437149  APARTAMENTO CON DOS HABITACIONES Y DOS BAÑOS. ...   80.0   \n",
       "19219  43440208  Los tabiques de Santa Ana I se han reducido a ...   64.0   \n",
       "\n",
       "             room_type  \n",
       "19215  Entire home/apt  \n",
       "19216  Entire home/apt  \n",
       "19217  Entire home/apt  \n",
       "19218  Entire home/apt  \n",
       "19219  Entire home/apt  "
      ]
     },
     "execution_count": 11,
     "metadata": {},
     "output_type": "execute_result"
    }
   ],
   "source": [
    "datos.tail()"
   ]
  },
  {
   "cell_type": "markdown",
   "metadata": {},
   "source": [
    "#### Now it's time to pre-process the texts and remove those that are empty:"
   ]
  },
  {
   "cell_type": "code",
   "execution_count": 12,
   "metadata": {},
   "outputs": [],
   "source": [
    "datos[\"traduccion\"] = pre_processing_es(datos[\"traduccion\"])\n",
    "#Remove those with no text\n",
    "datos[\"traduccion\"].replace('', np.nan, inplace=True)\n",
    "datos.dropna(subset=[\"traduccion\"], inplace=True)"
   ]
  },
  {
   "cell_type": "markdown",
   "metadata": {},
   "source": [
    "#### We are going to use scacy now to tokenize the texts:"
   ]
  },
  {
   "cell_type": "code",
   "execution_count": 13,
   "metadata": {},
   "outputs": [
    {
     "name": "stderr",
     "output_type": "stream",
     "text": [
      "100%|████████████████████████████████████████████████████████████████████████████| 18769/18769 [06:32<00:00, 47.80it/s]\n"
     ]
    }
   ],
   "source": [
    "import spacy\n",
    "# import spacy.cli\n",
    "# spacy.cli.download(\"es_core_news_lg\")\n",
    "nlp = spacy.load(\"es_core_news_lg\")\n",
    "\n",
    "datos.reset_index(inplace = True)\n",
    "columna = []\n",
    "for frase in tqdm(range(datos[\"traduccion\"].shape[0])):\n",
    "    lista = []\n",
    "    tok = nlp(datos.loc[frase,\"traduccion\"])\n",
    "    for token in tok:\n",
    "        #if (token.head.pos_ == \"NOUN\") | (token.head.pos_ == \"ADJ\") | (token.head.pos_ == \"VERB\"):\n",
    "        if (token.head.pos_ == \"NOUN\") | (token.head.pos_ == \"ADJ\"):    \n",
    "            lista.append(token.text)\n",
    "    columna.append(lista)\n",
    "datos[\"Words\"] = columna"
   ]
  },
  {
   "cell_type": "code",
   "execution_count": 14,
   "metadata": {},
   "outputs": [],
   "source": [
    "for i in range(datos[\"traduccion\"].shape[0]):\n",
    "    if datos.loc[i, \"Words\"] == []:\n",
    "        datos.drop(index = i, inplace = True)\n",
    "\n",
    "datos.reset_index(inplace = True, drop = True)"
   ]
  },
  {
   "cell_type": "markdown",
   "metadata": {},
   "source": [
    "#### To create the BoW we need first a table with the words that appear in the column and their frequence:"
   ]
  },
  {
   "cell_type": "code",
   "execution_count": 15,
   "metadata": {},
   "outputs": [],
   "source": [
    "import gensim\n",
    "from gensim.corpora import Dictionary\n",
    "dictionary = gensim.corpora.Dictionary(datos[\"Words\"])\n",
    "bow_corpus = [dictionary.doc2bow(doc) for doc in datos[\"Words\"]]\n",
    "vocab = list(dictionary.values())\n",
    "vocab_tf = [dict(i) for i in bow_corpus]\n",
    "vocab_tf = list(pd.DataFrame(vocab_tf).sum(axis=0))\n",
    "frecuencias = pd.DataFrame({\"palabra\" : vocab, \"freq\" : vocab_tf})"
   ]
  },
  {
   "cell_type": "markdown",
   "metadata": {},
   "source": [
    "#### There are some words that can be removed based on the fact that they don't provide any useful information when giving an apartment or a room a price.\n",
    "#### Let's see the most frequent words and analyze which ones can be removed:"
   ]
  },
  {
   "cell_type": "code",
   "execution_count": 17,
   "metadata": {},
   "outputs": [
    {
     "name": "stdout",
     "output_type": "stream",
     "text": [
      "         palabra    freq\n",
      "32         metro  7061.0\n",
      "56   apartamento  6989.0\n",
      "78        madrid  6955.0\n",
      "65            do  6919.0\n",
      "12          cama  5503.0\n",
      "..           ...     ...\n",
      "524      privado   980.0\n",
      "292    ubicacion   976.0\n",
      "231         mesa   962.0\n",
      "252     completo   951.0\n",
      "481       planta   936.0\n",
      "\n",
      "[100 rows x 2 columns]\n"
     ]
    }
   ],
   "source": [
    "comunes = frecuencias.sort_values(\"freq\", ascending=False)[:100]\n",
    "print(comunes)"
   ]
  },
  {
   "cell_type": "code",
   "execution_count": 18,
   "metadata": {},
   "outputs": [],
   "source": [
    "#Some of them can be removed:\n",
    "borrar = [\"madrid\", \"do\", \"barrio\", \"zona\", \"plaza\", \"ciudad\", \"persona\", \"puede\", \"cuenta\", \n",
    "          \"si\", \"estancia\", \"encuentra\", \"cualquier\", \"dispone\", \"m\", \"puedes\", \"pueden\", \"etc\"]"
   ]
  },
  {
   "cell_type": "code",
   "execution_count": 19,
   "metadata": {},
   "outputs": [],
   "source": [
    "for i in range(frecuencias.shape[0]):\n",
    "    if frecuencias.loc[i, \"palabra\"] in borrar:\n",
    "        frecuencias.drop(index = i, inplace = True)\n",
    "frecuencias.reset_index(inplace = True, drop = True)"
   ]
  },
  {
   "cell_type": "markdown",
   "metadata": {},
   "source": [
    "#### We can also remove the less frequent words:"
   ]
  },
  {
   "cell_type": "code",
   "execution_count": 20,
   "metadata": {},
   "outputs": [],
   "source": [
    "for i in range(frecuencias.shape[0]):\n",
    "    if frecuencias.loc[i, \"freq\"] < 50:\n",
    "        frecuencias.drop(index = i, inplace = True)\n",
    "\n",
    "frecuencias.reset_index(inplace = True, drop = True)"
   ]
  },
  {
   "cell_type": "markdown",
   "metadata": {},
   "source": [
    "#### Let's create the BoW:"
   ]
  },
  {
   "cell_type": "code",
   "execution_count": 21,
   "metadata": {},
   "outputs": [
    {
     "name": "stderr",
     "output_type": "stream",
     "text": [
      "16959it [02:50, 99.66it/s] \n"
     ]
    }
   ],
   "source": [
    "BoWMatrix = pd.DataFrame(np.zeros((datos.shape[0], len(frecuencias)), dtype=np.uint8), columns=frecuencias.palabra)\n",
    "for row in tqdm(datos.iterrows()):\n",
    "    index = row[0]\n",
    "    tokens = row[1][\"Words\"]\n",
    "    for tok in tokens:\n",
    "        if tok in list(frecuencias[\"palabra\"]):\n",
    "            BoWMatrix.loc[index, tok] = 1\n",
    "        else:\n",
    "            pass"
   ]
  },
  {
   "cell_type": "code",
   "execution_count": 22,
   "metadata": {},
   "outputs": [
    {
     "data": {
      "text/html": [
       "<div>\n",
       "<style scoped>\n",
       "    .dataframe tbody tr th:only-of-type {\n",
       "        vertical-align: middle;\n",
       "    }\n",
       "\n",
       "    .dataframe tbody tr th {\n",
       "        vertical-align: top;\n",
       "    }\n",
       "\n",
       "    .dataframe thead th {\n",
       "        text-align: right;\n",
       "    }\n",
       "</style>\n",
       "<table border=\"1\" class=\"dataframe\">\n",
       "  <thead>\n",
       "    <tr style=\"text-align: right;\">\n",
       "      <th>palabra</th>\n",
       "      <th>acogedor</th>\n",
       "      <th>ambiente</th>\n",
       "      <th>autobus</th>\n",
       "      <th>banos</th>\n",
       "      <th>bares</th>\n",
       "      <th>bien</th>\n",
       "      <th>bonito</th>\n",
       "      <th>buena</th>\n",
       "      <th>cafeteria</th>\n",
       "      <th>cama</th>\n",
       "      <th>...</th>\n",
       "      <th>ponzano</th>\n",
       "      <th>diurno</th>\n",
       "      <th>sujeto</th>\n",
       "      <th>establecimiento</th>\n",
       "      <th>cerradas</th>\n",
       "      <th>encima</th>\n",
       "      <th>tale</th>\n",
       "      <th>registros</th>\n",
       "      <th>taquillas</th>\n",
       "      <th>hostel</th>\n",
       "    </tr>\n",
       "  </thead>\n",
       "  <tbody>\n",
       "    <tr>\n",
       "      <th>0</th>\n",
       "      <td>1</td>\n",
       "      <td>1</td>\n",
       "      <td>1</td>\n",
       "      <td>1</td>\n",
       "      <td>1</td>\n",
       "      <td>1</td>\n",
       "      <td>1</td>\n",
       "      <td>1</td>\n",
       "      <td>1</td>\n",
       "      <td>1</td>\n",
       "      <td>...</td>\n",
       "      <td>0</td>\n",
       "      <td>0</td>\n",
       "      <td>0</td>\n",
       "      <td>0</td>\n",
       "      <td>0</td>\n",
       "      <td>0</td>\n",
       "      <td>0</td>\n",
       "      <td>0</td>\n",
       "      <td>0</td>\n",
       "      <td>0</td>\n",
       "    </tr>\n",
       "    <tr>\n",
       "      <th>1</th>\n",
       "      <td>0</td>\n",
       "      <td>0</td>\n",
       "      <td>0</td>\n",
       "      <td>1</td>\n",
       "      <td>0</td>\n",
       "      <td>0</td>\n",
       "      <td>0</td>\n",
       "      <td>0</td>\n",
       "      <td>0</td>\n",
       "      <td>0</td>\n",
       "      <td>...</td>\n",
       "      <td>0</td>\n",
       "      <td>0</td>\n",
       "      <td>0</td>\n",
       "      <td>0</td>\n",
       "      <td>0</td>\n",
       "      <td>0</td>\n",
       "      <td>0</td>\n",
       "      <td>0</td>\n",
       "      <td>0</td>\n",
       "      <td>0</td>\n",
       "    </tr>\n",
       "    <tr>\n",
       "      <th>2</th>\n",
       "      <td>0</td>\n",
       "      <td>0</td>\n",
       "      <td>0</td>\n",
       "      <td>0</td>\n",
       "      <td>0</td>\n",
       "      <td>0</td>\n",
       "      <td>0</td>\n",
       "      <td>0</td>\n",
       "      <td>0</td>\n",
       "      <td>0</td>\n",
       "      <td>...</td>\n",
       "      <td>0</td>\n",
       "      <td>0</td>\n",
       "      <td>0</td>\n",
       "      <td>0</td>\n",
       "      <td>0</td>\n",
       "      <td>0</td>\n",
       "      <td>0</td>\n",
       "      <td>0</td>\n",
       "      <td>0</td>\n",
       "      <td>0</td>\n",
       "    </tr>\n",
       "    <tr>\n",
       "      <th>3</th>\n",
       "      <td>0</td>\n",
       "      <td>0</td>\n",
       "      <td>0</td>\n",
       "      <td>0</td>\n",
       "      <td>0</td>\n",
       "      <td>0</td>\n",
       "      <td>0</td>\n",
       "      <td>0</td>\n",
       "      <td>0</td>\n",
       "      <td>0</td>\n",
       "      <td>...</td>\n",
       "      <td>0</td>\n",
       "      <td>0</td>\n",
       "      <td>0</td>\n",
       "      <td>0</td>\n",
       "      <td>0</td>\n",
       "      <td>0</td>\n",
       "      <td>0</td>\n",
       "      <td>0</td>\n",
       "      <td>0</td>\n",
       "      <td>0</td>\n",
       "    </tr>\n",
       "    <tr>\n",
       "      <th>4</th>\n",
       "      <td>0</td>\n",
       "      <td>0</td>\n",
       "      <td>0</td>\n",
       "      <td>0</td>\n",
       "      <td>0</td>\n",
       "      <td>0</td>\n",
       "      <td>0</td>\n",
       "      <td>0</td>\n",
       "      <td>0</td>\n",
       "      <td>0</td>\n",
       "      <td>...</td>\n",
       "      <td>0</td>\n",
       "      <td>0</td>\n",
       "      <td>0</td>\n",
       "      <td>0</td>\n",
       "      <td>0</td>\n",
       "      <td>0</td>\n",
       "      <td>0</td>\n",
       "      <td>0</td>\n",
       "      <td>0</td>\n",
       "      <td>0</td>\n",
       "    </tr>\n",
       "  </tbody>\n",
       "</table>\n",
       "<p>5 rows × 1196 columns</p>\n",
       "</div>"
      ],
      "text/plain": [
       "palabra  acogedor  ambiente  autobus  banos  bares  bien  bonito  buena  \\\n",
       "0               1         1        1      1      1     1       1      1   \n",
       "1               0         0        0      1      0     0       0      0   \n",
       "2               0         0        0      0      0     0       0      0   \n",
       "3               0         0        0      0      0     0       0      0   \n",
       "4               0         0        0      0      0     0       0      0   \n",
       "\n",
       "palabra  cafeteria  cama  ...  ponzano  diurno  sujeto  establecimiento  \\\n",
       "0                1     1  ...        0       0       0                0   \n",
       "1                0     0  ...        0       0       0                0   \n",
       "2                0     0  ...        0       0       0                0   \n",
       "3                0     0  ...        0       0       0                0   \n",
       "4                0     0  ...        0       0       0                0   \n",
       "\n",
       "palabra  cerradas  encima  tale  registros  taquillas  hostel  \n",
       "0               0       0     0          0          0       0  \n",
       "1               0       0     0          0          0       0  \n",
       "2               0       0     0          0          0       0  \n",
       "3               0       0     0          0          0       0  \n",
       "4               0       0     0          0          0       0  \n",
       "\n",
       "[5 rows x 1196 columns]"
      ]
     },
     "execution_count": 22,
     "metadata": {},
     "output_type": "execute_result"
    }
   ],
   "source": [
    "BoWMatrix.head()"
   ]
  },
  {
   "cell_type": "markdown",
   "metadata": {},
   "source": [
    "#### To merge this matrix with the table containing all the information, we need to have the id of the apartment/room:"
   ]
  },
  {
   "cell_type": "code",
   "execution_count": 23,
   "metadata": {},
   "outputs": [],
   "source": [
    "BoW = pd.concat([datos[[\"id\"]], BoWMatrix], axis=1)"
   ]
  },
  {
   "cell_type": "code",
   "execution_count": 24,
   "metadata": {},
   "outputs": [
    {
     "data": {
      "text/html": [
       "<div>\n",
       "<style scoped>\n",
       "    .dataframe tbody tr th:only-of-type {\n",
       "        vertical-align: middle;\n",
       "    }\n",
       "\n",
       "    .dataframe tbody tr th {\n",
       "        vertical-align: top;\n",
       "    }\n",
       "\n",
       "    .dataframe thead th {\n",
       "        text-align: right;\n",
       "    }\n",
       "</style>\n",
       "<table border=\"1\" class=\"dataframe\">\n",
       "  <thead>\n",
       "    <tr style=\"text-align: right;\">\n",
       "      <th></th>\n",
       "      <th>id</th>\n",
       "      <th>acogedor</th>\n",
       "      <th>ambiente</th>\n",
       "      <th>autobus</th>\n",
       "      <th>banos</th>\n",
       "      <th>bares</th>\n",
       "      <th>bien</th>\n",
       "      <th>bonito</th>\n",
       "      <th>buena</th>\n",
       "      <th>cafeteria</th>\n",
       "      <th>...</th>\n",
       "      <th>ponzano</th>\n",
       "      <th>diurno</th>\n",
       "      <th>sujeto</th>\n",
       "      <th>establecimiento</th>\n",
       "      <th>cerradas</th>\n",
       "      <th>encima</th>\n",
       "      <th>tale</th>\n",
       "      <th>registros</th>\n",
       "      <th>taquillas</th>\n",
       "      <th>hostel</th>\n",
       "    </tr>\n",
       "  </thead>\n",
       "  <tbody>\n",
       "    <tr>\n",
       "      <th>0</th>\n",
       "      <td>21853</td>\n",
       "      <td>1</td>\n",
       "      <td>1</td>\n",
       "      <td>1</td>\n",
       "      <td>1</td>\n",
       "      <td>1</td>\n",
       "      <td>1</td>\n",
       "      <td>1</td>\n",
       "      <td>1</td>\n",
       "      <td>1</td>\n",
       "      <td>...</td>\n",
       "      <td>0</td>\n",
       "      <td>0</td>\n",
       "      <td>0</td>\n",
       "      <td>0</td>\n",
       "      <td>0</td>\n",
       "      <td>0</td>\n",
       "      <td>0</td>\n",
       "      <td>0</td>\n",
       "      <td>0</td>\n",
       "      <td>0</td>\n",
       "    </tr>\n",
       "    <tr>\n",
       "      <th>1</th>\n",
       "      <td>23001</td>\n",
       "      <td>0</td>\n",
       "      <td>0</td>\n",
       "      <td>0</td>\n",
       "      <td>1</td>\n",
       "      <td>0</td>\n",
       "      <td>0</td>\n",
       "      <td>0</td>\n",
       "      <td>0</td>\n",
       "      <td>0</td>\n",
       "      <td>...</td>\n",
       "      <td>0</td>\n",
       "      <td>0</td>\n",
       "      <td>0</td>\n",
       "      <td>0</td>\n",
       "      <td>0</td>\n",
       "      <td>0</td>\n",
       "      <td>0</td>\n",
       "      <td>0</td>\n",
       "      <td>0</td>\n",
       "      <td>0</td>\n",
       "    </tr>\n",
       "    <tr>\n",
       "      <th>2</th>\n",
       "      <td>24836</td>\n",
       "      <td>0</td>\n",
       "      <td>0</td>\n",
       "      <td>0</td>\n",
       "      <td>0</td>\n",
       "      <td>0</td>\n",
       "      <td>0</td>\n",
       "      <td>0</td>\n",
       "      <td>0</td>\n",
       "      <td>0</td>\n",
       "      <td>...</td>\n",
       "      <td>0</td>\n",
       "      <td>0</td>\n",
       "      <td>0</td>\n",
       "      <td>0</td>\n",
       "      <td>0</td>\n",
       "      <td>0</td>\n",
       "      <td>0</td>\n",
       "      <td>0</td>\n",
       "      <td>0</td>\n",
       "      <td>0</td>\n",
       "    </tr>\n",
       "    <tr>\n",
       "      <th>3</th>\n",
       "      <td>26825</td>\n",
       "      <td>0</td>\n",
       "      <td>0</td>\n",
       "      <td>0</td>\n",
       "      <td>0</td>\n",
       "      <td>0</td>\n",
       "      <td>0</td>\n",
       "      <td>0</td>\n",
       "      <td>0</td>\n",
       "      <td>0</td>\n",
       "      <td>...</td>\n",
       "      <td>0</td>\n",
       "      <td>0</td>\n",
       "      <td>0</td>\n",
       "      <td>0</td>\n",
       "      <td>0</td>\n",
       "      <td>0</td>\n",
       "      <td>0</td>\n",
       "      <td>0</td>\n",
       "      <td>0</td>\n",
       "      <td>0</td>\n",
       "    </tr>\n",
       "    <tr>\n",
       "      <th>4</th>\n",
       "      <td>28200</td>\n",
       "      <td>0</td>\n",
       "      <td>0</td>\n",
       "      <td>0</td>\n",
       "      <td>0</td>\n",
       "      <td>0</td>\n",
       "      <td>0</td>\n",
       "      <td>0</td>\n",
       "      <td>0</td>\n",
       "      <td>0</td>\n",
       "      <td>...</td>\n",
       "      <td>0</td>\n",
       "      <td>0</td>\n",
       "      <td>0</td>\n",
       "      <td>0</td>\n",
       "      <td>0</td>\n",
       "      <td>0</td>\n",
       "      <td>0</td>\n",
       "      <td>0</td>\n",
       "      <td>0</td>\n",
       "      <td>0</td>\n",
       "    </tr>\n",
       "  </tbody>\n",
       "</table>\n",
       "<p>5 rows × 1197 columns</p>\n",
       "</div>"
      ],
      "text/plain": [
       "      id  acogedor  ambiente  autobus  banos  bares  bien  bonito  buena  \\\n",
       "0  21853         1         1        1      1      1     1       1      1   \n",
       "1  23001         0         0        0      1      0     0       0      0   \n",
       "2  24836         0         0        0      0      0     0       0      0   \n",
       "3  26825         0         0        0      0      0     0       0      0   \n",
       "4  28200         0         0        0      0      0     0       0      0   \n",
       "\n",
       "   cafeteria  ...  ponzano  diurno  sujeto  establecimiento  cerradas  encima  \\\n",
       "0          1  ...        0       0       0                0         0       0   \n",
       "1          0  ...        0       0       0                0         0       0   \n",
       "2          0  ...        0       0       0                0         0       0   \n",
       "3          0  ...        0       0       0                0         0       0   \n",
       "4          0  ...        0       0       0                0         0       0   \n",
       "\n",
       "   tale  registros  taquillas  hostel  \n",
       "0     0          0          0       0  \n",
       "1     0          0          0       0  \n",
       "2     0          0          0       0  \n",
       "3     0          0          0       0  \n",
       "4     0          0          0       0  \n",
       "\n",
       "[5 rows x 1197 columns]"
      ]
     },
     "execution_count": 24,
     "metadata": {},
     "output_type": "execute_result"
    }
   ],
   "source": [
    "BoW.head()"
   ]
  },
  {
   "cell_type": "markdown",
   "metadata": {},
   "source": [
    "#### Now the BoW is ready to be merged with the dataset. This will help to improve the price prediction."
   ]
  }
 ],
 "metadata": {
  "kernelspec": {
   "display_name": "Python 3",
   "language": "python",
   "name": "python3"
  },
  "language_info": {
   "codemirror_mode": {
    "name": "ipython",
    "version": 3
   },
   "file_extension": ".py",
   "mimetype": "text/x-python",
   "name": "python",
   "nbconvert_exporter": "python",
   "pygments_lexer": "ipython3",
   "version": "3.7.7"
  }
 },
 "nbformat": 4,
 "nbformat_minor": 4
}
